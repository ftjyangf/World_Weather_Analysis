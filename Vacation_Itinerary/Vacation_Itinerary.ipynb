{
 "cells": [
  {
   "cell_type": "markdown",
   "metadata": {},
   "source": [
    "## Deliverable 3. Create a Travel Itinerary Map."
   ]
  },
  {
   "cell_type": "code",
   "execution_count": 25,
   "metadata": {},
   "outputs": [],
   "source": [
    "# Dependencies and Setup\n",
    "import pandas as pd\n",
    "import requests\n",
    "import gmaps\n",
    "\n",
    "# Import API key\n",
    "from config import g_key\n",
    "\n",
    "# Configure gmaps\n",
    "gmaps.configure(api_key=g_key)"
   ]
  },
  {
   "cell_type": "code",
   "execution_count": 69,
   "metadata": {},
   "outputs": [],
   "source": [
    "# 1. Read the WeatherPy_vacation.csv into a DataFrame.\n",
    "vacation_df = pd.read_csv(\"../Vacation_Search/WeatherPy_vacation.csv\")\n",
    "\n",
    "# vacation_df.head()\n",
    "vacation_df = vacation_df.drop(vacation_df.columns[0],axis = 1)\n"
   ]
  },
  {
   "cell_type": "code",
   "execution_count": 4,
   "metadata": {},
   "outputs": [],
   "source": [
    "# 2. Using the template add the city name, the country code, the weather description and maximum temperature for the city.\n",
    "\n",
    "info_box_template = \"\"\"\n",
    "<dl>\n",
    "<dt>City</dt><dd>{City}</dd>\n",
    "<dt>Country</dt><dd>{Country}</dd>\n",
    "<dt>Weather description</dt><dd>Weather description</dd>\n",
    "<dt>Max Temp</dt><dd>{Max Temp} °F</dd>\n",
    "</dl>\n",
    "\"\"\"\n",
    "\n",
    "# 3a. Get the data from each row and add it to the formatting template and store the data in a list.\n",
    "hotel_info = [info_box_template.format(**row[1]) for row in vacation_df.iterrows()]\n",
    "\n",
    "# 3b. Get the latitude and longitude from each row and store in a new DataFrame.\n",
    "locations = vacation_df[[\"Lat\", \"Lon\"]]\n"
   ]
  },
  {
   "cell_type": "code",
   "execution_count": 49,
   "metadata": {},
   "outputs": [
    {
     "data": {
      "application/vnd.jupyter.widget-view+json": {
       "model_id": "432b465f2b11435ab50d2e55fce09f73",
       "version_major": 2,
       "version_minor": 0
      },
      "text/plain": [
       "Figure(layout=FigureLayout(height='420px'))"
      ]
     },
     "metadata": {},
     "output_type": "display_data"
    }
   ],
   "source": [
    "# 4a. Add a marker layer for each city to the map.\n",
    "marker_layer = gmaps.marker_layer(locations, info_box_content=hotel_info)\n",
    "# 4b. Display the figure\n",
    "fig = gmaps.figure(center=(30.0, 31.0), zoom_level=1.5)\n",
    "fig.add_layer(marker_layer)\n",
    "fig\n"
   ]
  },
  {
   "cell_type": "code",
   "execution_count": 75,
   "metadata": {},
   "outputs": [],
   "source": [
    "# From the map above pick 4 cities and create a vacation itinerary route to travel between the four cities. \n",
    "vacation_start = vacation_df.loc[(133,\"City\")]\n",
    "vacation_end = vacation_df.loc[133,\"City\"]\n",
    "vacation_stop1 = vacation_df.loc[95,\"City\"]\n",
    "vacation_stop2 = vacation_df.loc[289,\"City\"] \n",
    "vacation_stop3 = vacation_df.loc[282,\"City\"] \n",
    "# 5. Create DataFrames for each city by filtering the 'vacation_df' using the loc method. \n",
    "# Hint: The starting and ending city should be the same city.\n",
    "Kahta_df = vacation_df.loc[vacation_df.index == 133]\n",
    "Aksehir_df = vacation_df.loc[vacation_df.index == 289]\n",
    "Gerede_df = vacation_df.loc[vacation_df.index == 444]\n",
    "\n",
    "Kars_df = vacation_df.loc[vacation_df.index == 282]\n",
    "\n",
    "\n",
    "\n"
   ]
  },
  {
   "cell_type": "code",
   "execution_count": 71,
   "metadata": {},
   "outputs": [
    {
     "data": {
      "text/plain": [
       "(55.4, 40.6)"
      ]
     },
     "execution_count": 71,
     "metadata": {},
     "output_type": "execute_result"
    }
   ],
   "source": [
    "# 6. Get the latitude-longitude turkey as tuples from each city DataFrame using the to_numpy function and list indexing.\n",
    "start = (vacation_df.to_numpy()[133][4],vacation_df.to_numpy()[133][5])\n",
    "end = (vacation_df.to_numpy()[133][4],vacation_df.to_numpy()[133][5])\n",
    "stop1 = (vacation_df.to_numpy()[289][4],vacation_df.to_numpy()[289][5])\n",
    "stop2 = (vacation_df.to_numpy()[444][4],vacation_df.to_numpy()[444][5])\n",
    "stop3 = (vacation_df.to_numpy()[282][4],vacation_df.to_numpy()[282][5])\n",
    "len(start)\n",
    "Kars"
   ]
  },
  {
   "cell_type": "code",
   "execution_count": 74,
   "metadata": {
    "scrolled": true
   },
   "outputs": [
    {
     "data": {
      "application/vnd.jupyter.widget-view+json": {
       "model_id": "432b465f2b11435ab50d2e55fce09f73",
       "version_major": 2,
       "version_minor": 0
      },
      "text/plain": [
       "Figure(layout=FigureLayout(height='420px'))"
      ]
     },
     "metadata": {},
     "output_type": "display_data"
    }
   ],
   "source": [
    "# 7. Create a direction layer map using the start and end latitude-longitude pairs,\n",
    "# and stop1, stop2, and stop3 as the waypoints. The travel_mode should be \"DRIVING\", \"BICYCLING\", or \"WALKING\".\n",
    "import gmaps.datasets\n",
    "\n",
    "# Latitude-longitude pairs\n",
    "Kahta = start\n",
    "Aksehir = stop1\n",
    "Gerede = stop2\n",
    "Kars = stop3\n",
    "Kahta = end\n",
    "\n",
    "Kahta2Kahta = gmaps.directions_layer(Kahta,Kahta,waypoints =[stop1,stop2,stop3],travel_mode = \"WALKING\")\n",
    "\n",
    "fig.add_layer(Kahta2Kahta)\n",
    "\n",
    "\n",
    "\n",
    "\n",
    "fig\n"
   ]
  },
  {
   "cell_type": "code",
   "execution_count": 76,
   "metadata": {},
   "outputs": [
    {
     "data": {
      "text/html": [
       "<div>\n",
       "<style scoped>\n",
       "    .dataframe tbody tr th:only-of-type {\n",
       "        vertical-align: middle;\n",
       "    }\n",
       "\n",
       "    .dataframe tbody tr th {\n",
       "        vertical-align: top;\n",
       "    }\n",
       "\n",
       "    .dataframe thead th {\n",
       "        text-align: right;\n",
       "    }\n",
       "</style>\n",
       "<table border=\"1\" class=\"dataframe\">\n",
       "  <thead>\n",
       "    <tr style=\"text-align: right;\">\n",
       "      <th></th>\n",
       "      <th>City_ID</th>\n",
       "      <th>City</th>\n",
       "      <th>Country</th>\n",
       "      <th>Max Temp</th>\n",
       "      <th>Lat</th>\n",
       "      <th>Lon</th>\n",
       "      <th>Hotel Name</th>\n",
       "      <th>Weather description</th>\n",
       "    </tr>\n",
       "  </thead>\n",
       "  <tbody>\n",
       "    <tr>\n",
       "      <th>0</th>\n",
       "      <td>133</td>\n",
       "      <td>Kahta</td>\n",
       "      <td>TR</td>\n",
       "      <td>69.80</td>\n",
       "      <td>37.79</td>\n",
       "      <td>38.62</td>\n",
       "      <td>Kommagene Hotel</td>\n",
       "      <td>clear sky</td>\n",
       "    </tr>\n",
       "    <tr>\n",
       "      <th>1</th>\n",
       "      <td>289</td>\n",
       "      <td>Aksehir</td>\n",
       "      <td>TR</td>\n",
       "      <td>63.10</td>\n",
       "      <td>38.36</td>\n",
       "      <td>31.42</td>\n",
       "      <td>GRAND HOTEL AKŞEHİR</td>\n",
       "      <td>clear sky</td>\n",
       "    </tr>\n",
       "    <tr>\n",
       "      <th>2</th>\n",
       "      <td>444</td>\n",
       "      <td>Gerede</td>\n",
       "      <td>TR</td>\n",
       "      <td>50.92</td>\n",
       "      <td>40.80</td>\n",
       "      <td>32.20</td>\n",
       "      <td>Hotel Konuk</td>\n",
       "      <td>clear sky</td>\n",
       "    </tr>\n",
       "    <tr>\n",
       "      <th>3</th>\n",
       "      <td>282</td>\n",
       "      <td>Kars</td>\n",
       "      <td>TR</td>\n",
       "      <td>55.40</td>\n",
       "      <td>40.60</td>\n",
       "      <td>43.09</td>\n",
       "      <td>Kars Otel</td>\n",
       "      <td>scattered clouds</td>\n",
       "    </tr>\n",
       "  </tbody>\n",
       "</table>\n",
       "</div>"
      ],
      "text/plain": [
       "   City_ID     City Country  Max Temp    Lat    Lon           Hotel Name  \\\n",
       "0      133    Kahta      TR     69.80  37.79  38.62      Kommagene Hotel   \n",
       "1      289  Aksehir      TR     63.10  38.36  31.42  GRAND HOTEL AKŞEHİR   \n",
       "2      444   Gerede      TR     50.92  40.80  32.20          Hotel Konuk   \n",
       "3      282     Kars      TR     55.40  40.60  43.09            Kars Otel   \n",
       "\n",
       "  Weather description  \n",
       "0           clear sky  \n",
       "1           clear sky  \n",
       "2           clear sky  \n",
       "3    scattered clouds  "
      ]
     },
     "execution_count": 76,
     "metadata": {},
     "output_type": "execute_result"
    }
   ],
   "source": [
    "# 8. To create a marker layer map between the four cities.\n",
    "#  Combine the four city DataFrames into one DataFrame using the concat() function.\n",
    "# itinerary_df = pd.concat([],ignore_index=True)\n",
    "itinerary_df = pd.concat([Kahta_df,Aksehir_df,Gerede_df,Kars_df],ignore_index=True,join=\"inner\")\n",
    "itinerary_df"
   ]
  },
  {
   "cell_type": "code",
   "execution_count": 77,
   "metadata": {},
   "outputs": [],
   "source": [
    "# 9 Using the template add city name, the country code, the weather description and maximum temperature for the city. \n",
    "info_box_template = \"\"\"\n",
    "<dl>\n",
    "<dd>\"City\"<dd><dt>{City}</dt>\n",
    "<dd>\"Country\"<dd><dt>{Country}</dt>\n",
    "<dd>\"Weather description\"<dd><dt>{Weather description}</dt>\n",
    "<dd>\"Max Temp\"<dd><dt>{Max Temp}</dt>\n",
    "</dl>\n",
    "\"\"\"\n",
    "\n",
    "# 10a Get the data from each row and add it to the formatting template and store the data in a list.\n",
    "hotel_info = [info_box_template.format(**row[1]) for row in itinerary_df.iterrows()]\n",
    "\n",
    "# 10b. Get the latitude and longitude from each row and store in a new DataFrame.\n",
    "locations = itinerary_df[[\"Lat\", \"Lon\"]]"
   ]
  },
  {
   "cell_type": "code",
   "execution_count": 78,
   "metadata": {},
   "outputs": [
    {
     "data": {
      "application/vnd.jupyter.widget-view+json": {
       "model_id": "82b671f32b714605ac3e56ab3e72643b",
       "version_major": 2,
       "version_minor": 0
      },
      "text/plain": [
       "Figure(layout=FigureLayout(height='420px'))"
      ]
     },
     "metadata": {},
     "output_type": "display_data"
    }
   ],
   "source": [
    "# 11a. Add a marker layer for each city to the map.\n",
    "fig1 = gmaps.figure(center=(30.0, 31.0), zoom_level=1.5)\n",
    "marker_layer = gmaps.marker_layer(locations, info_box_content=hotel_info)\n",
    "# 11b. Display the figure\n",
    "fig1.add_layer(marker_layer)\n",
    "fig1"
   ]
  }
 ],
 "metadata": {
  "kernelspec": {
   "display_name": "PythonData",
   "language": "python",
   "name": "pythondata"
  },
  "language_info": {
   "codemirror_mode": {
    "name": "ipython",
    "version": 3
   },
   "file_extension": ".py",
   "mimetype": "text/x-python",
   "name": "python",
   "nbconvert_exporter": "python",
   "pygments_lexer": "ipython3",
   "version": "3.8.3"
  },
  "latex_envs": {
   "LaTeX_envs_menu_present": true,
   "autoclose": false,
   "autocomplete": true,
   "bibliofile": "biblio.bib",
   "cite_by": "apalike",
   "current_citInitial": 1,
   "eqLabelWithNumbers": true,
   "eqNumInitial": 1,
   "hotkeys": {
    "equation": "Ctrl-E",
    "itemize": "Ctrl-I"
   },
   "labels_anchors": false,
   "latex_user_defs": false,
   "report_style_numbering": false,
   "user_envs_cfg": false
  }
 },
 "nbformat": 4,
 "nbformat_minor": 2
}
